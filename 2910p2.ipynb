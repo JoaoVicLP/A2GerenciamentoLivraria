{
  "nbformat": 4,
  "nbformat_minor": 0,
  "metadata": {
    "colab": {
      "provenance": [],
      "include_colab_link": true
    },
    "kernelspec": {
      "name": "python3",
      "display_name": "Python 3"
    },
    "language_info": {
      "name": "python"
    }
  },
  "cells": [
    {
      "cell_type": "markdown",
      "metadata": {
        "id": "view-in-github",
        "colab_type": "text"
      },
      "source": [
        "<a href=\"https://colab.research.google.com/github/JoaoVicLP/A2GerenciamentoLivraria/blob/main/2910p2.ipynb\" target=\"_parent\"><img src=\"https://colab.research.google.com/assets/colab-badge.svg\" alt=\"Open In Colab\"/></a>"
      ]
    },
    {
      "cell_type": "code",
      "execution_count": null,
      "metadata": {
        "colab": {
          "base_uri": "https://localhost:8080/"
        },
        "id": "8hNqKlTWs2UK",
        "outputId": "5bdcf037-3ecc-408b-e930-29f36c02d5bf"
      },
      "outputs": [
        {
          "output_type": "stream",
          "name": "stdout",
          "text": [
            "Requirement already satisfied: imbalanced-learn in /usr/local/lib/python3.12/dist-packages (0.14.0)\n",
            "Requirement already satisfied: numpy<3,>=1.25.2 in /usr/local/lib/python3.12/dist-packages (from imbalanced-learn) (2.0.2)\n",
            "Requirement already satisfied: scipy<2,>=1.11.4 in /usr/local/lib/python3.12/dist-packages (from imbalanced-learn) (1.16.2)\n",
            "Requirement already satisfied: scikit-learn<2,>=1.4.2 in /usr/local/lib/python3.12/dist-packages (from imbalanced-learn) (1.6.1)\n",
            "Requirement already satisfied: joblib<2,>=1.2.0 in /usr/local/lib/python3.12/dist-packages (from imbalanced-learn) (1.5.2)\n",
            "Requirement already satisfied: threadpoolctl<4,>=2.0.0 in /usr/local/lib/python3.12/dist-packages (from imbalanced-learn) (3.6.0)\n",
            "Bibliotecas importadas e prontas.\n"
          ]
        }
      ],
      "source": [
        "# Instalar a biblioteca 'imbalanced-learn' para o SMOTE\n",
        "!pip install imbalanced-learn\n",
        "\n",
        "# Importar as bibliotecas necessárias\n",
        "import pandas as pd\n",
        "import numpy as np\n",
        "from sklearn.model_selection import train_test_split, GridSearchCV\n",
        "from sklearn.preprocessing import StandardScaler\n",
        "from sklearn.feature_selection import SelectKBest, f_classif\n",
        "from sklearn.ensemble import RandomForestClassifier, VotingClassifier\n",
        "from sklearn.tree import DecisionTreeClassifier\n",
        "from sklearn.svm import SVC\n",
        "from sklearn.neighbors import KNeighborsClassifier\n",
        "from sklearn.metrics import classification_report, confusion_matrix, accuracy_score, f1_score\n",
        "from imblearn.over_sampling import SMOTE\n",
        "import warnings\n",
        "\n",
        "# Ignorar avisos para manter a saída limpa\n",
        "warnings.filterwarnings('ignore')\n",
        "\n",
        "print(\"Bibliotecas importadas e prontas.\")"
      ]
    },
    {
      "cell_type": "code",
      "source": [],
      "metadata": {
        "id": "GyzFL5Ku1Pwj"
      },
      "execution_count": null,
      "outputs": []
    },
    {
      "cell_type": "code",
      "source": [
        "# --- Passo 0: Preparação e Análise Inicial ---\n",
        "print(\"--- Iniciando Passo 0: Preparação e Análise dos Dados ---\")\n",
        "\n",
        "# 1. Carregar o CSV\n",
        "try:\n",
        "    df = pd.read_csv(\"/content/creditcard - menor balanceado.csv\")\n",
        "    print(\"Dataset 'creditcard - menor balanceado.csv' carregado com sucesso.\")\n",
        "except FileNotFoundError:\n",
        "    print(\"Erro: Ficheiro 'creditcard - menor balanceado.csv' não encontrado.\")\n",
        "    print(\"Por favor, faça upload do ficheiro CSV para o ambiente do Google Colab.\")\n",
        "\n",
        "scaler = StandardScaler()\n",
        "df['NormalizedAmount'] = scaler.fit_transform(df['Amount'].values.reshape(-1, 1))\n",
        "\n",
        "X = df.drop(['Time', 'Amount', 'Class'], axis=1)\n",
        "y = df['Class']\n",
        "\n",
        "print(f\"\\nFormato de X: {X.shape}\")\n",
        "\n",
        "class_distribution = y.value_counts()\n",
        "print(f\"\\nDistribuição das Classes:\\n{class_distribution}\")\n",
        "is_balanced = (class_distribution[0] / class_distribution[1]) < 1.5\n",
        "\n",
        "# 4. Dividir em Treino e Teste\n",
        "X_train, X_test, y_train, y_test = train_test_split(X, y, test_size=0.3, random_state=42, stratify=y)\n",
        "print(f\"Dados divididos: {len(X_train)} treino, {len(X_test)} teste.\")\n",
        "print(\"---------------------------------------------------\\n\")"
      ],
      "metadata": {
        "colab": {
          "base_uri": "https://localhost:8080/"
        },
        "id": "u-1QBAi1tAa_",
        "outputId": "030ee49a-40e6-47b4-b887-5775bb3f5717"
      },
      "execution_count": null,
      "outputs": [
        {
          "output_type": "stream",
          "name": "stdout",
          "text": [
            "--- Iniciando Passo 0: Preparação e Análise dos Dados ---\n",
            "Dataset 'creditcard - menor balanceado.csv' carregado com sucesso.\n",
            "\n",
            "Formato de X: (1759, 29)\n",
            "\n",
            "Distribuição das Classes:\n",
            "Class\n",
            "0    1267\n",
            "1     492\n",
            "Name: count, dtype: int64\n",
            "Dados divididos: 1231 treino, 528 teste.\n",
            "---------------------------------------------------\n",
            "\n"
          ]
        }
      ]
    },
    {
      "cell_type": "code",
      "source": [
        "# --- Passo 1: Seleção de Atributos (Feature Selection) ---\n",
        "print(\"--- Iniciando Passo 1: Seleção de Atributos ---\")\n",
        "\n",
        "k_best = SelectKBest(score_func=f_classif, k=20)\n",
        "k_best.fit(X_train, y_train)\n",
        "\n",
        "selected_features_mask = k_best.get_support()\n",
        "selected_features_names = X_train.columns[selected_features_mask]\n",
        "\n",
        "X_train_selected = X_train.loc[:, selected_features_names]\n",
        "X_test_selected = X_test.loc[:, selected_features_names]\n",
        "\n",
        "print(f\"Features selecionadas (k=20): {list(selected_features_names)}\")\n",
        "print(f\"Novo formato de X_train_selected: {X_train_selected.shape}\")\n",
        "print(\"---------------------------------------------------\\n\")"
      ],
      "metadata": {
        "colab": {
          "base_uri": "https://localhost:8080/"
        },
        "id": "uJzhNLBytQec",
        "outputId": "da31342d-6d91-4d73-eff9-9bace0b0e45a"
      },
      "execution_count": null,
      "outputs": [
        {
          "output_type": "stream",
          "name": "stdout",
          "text": [
            "--- Iniciando Passo 1: Seleção de Atributos ---\n",
            "Features selecionadas (k=20): ['V1', 'V2', 'V3', 'V4', 'V5', 'V6', 'V7', 'V9', 'V10', 'V11', 'V12', 'V13', 'V14', 'V16', 'V17', 'V18', 'V19', 'V20', 'V21', 'V28']\n",
            "Novo formato de X_train_selected: (1231, 20)\n",
            "---------------------------------------------------\n",
            "\n"
          ]
        }
      ]
    },
    {
      "cell_type": "code",
      "source": [
        "# --- Passo 2: Técnicas de Balanceamento (Sampling) ---\n",
        "print(\"--- Iniciando Passo 2: Técnicas de Balanceamento ---\")\n",
        "\n",
        "X_train_final = X_train_selected\n",
        "y_train_final = y_train\n",
        "\n",
        "if not is_balanced:\n",
        "    print(\"Dataset identificado como desbalanceado. Aplicando SMOTE...\")\n",
        "    smote = SMOTE(random_state=42)\n",
        "    X_train_final, y_train_final = smote.fit_resample(X_train_selected, y_train)\n",
        "\n",
        "    print(\"Balanceamento com SMOTE concluído.\")\n",
        "    print(f\"Distribuição de treino original: {y_train.value_counts().to_dict()}\")\n",
        "    print(f\"Nova distribuição de treino (SMOTE): {pd.Series(y_train_final).value_counts().to_dict()}\")\n",
        "else:\n",
        "    print(\"O ficheiro CSV fornecido já está balanceado (ou próximo disso).\")\n",
        "    print(\"O passo de balanceamento (SMOTE) não foi executado.\")\n",
        "\n",
        "print(\"---------------------------------------------------\\n\")"
      ],
      "metadata": {
        "colab": {
          "base_uri": "https://localhost:8080/"
        },
        "id": "2JzKFzvutS4C",
        "outputId": "26c912d7-20eb-4c37-924e-bf5a73ab3acf"
      },
      "execution_count": null,
      "outputs": [
        {
          "output_type": "stream",
          "name": "stdout",
          "text": [
            "--- Iniciando Passo 2: Técnicas de Balanceamento ---\n",
            "Dataset identificado como desbalanceado. Aplicando SMOTE...\n",
            "Balanceamento com SMOTE concluído.\n",
            "Distribuição de treino original: {0: 887, 1: 344}\n",
            "Nova distribuição de treino (SMOTE): {0: 887, 1: 887}\n",
            "---------------------------------------------------\n",
            "\n"
          ]
        }
      ]
    },
    {
      "cell_type": "code",
      "source": [
        "# --- Passo 3: Tuning de Hiperparâmetros (Random Forest) ---\n",
        "print(\"--- Iniciando Passo 3: Tuning de Hiperparâmetros (Random Forest) ---\")\n",
        "\n",
        "rf = RandomForestClassifier(random_state=42)\n",
        "\n",
        "param_grid_rf = {\n",
        "    'n_estimators': [100, 200],\n",
        "    'max_depth': [10, 20],\n",
        "    'criterion': ['gini', 'entropy']\n",
        "}\n",
        "\n",
        "grid_search_rf = GridSearchCV(estimator=rf,\n",
        "                              param_grid=param_grid_rf,\n",
        "                              cv=5,\n",
        "                              scoring='f1_macro',\n",
        "                              n_jobs=-1,\n",
        "                              verbose=1)\n",
        "\n",
        "print(\"Iniciando GridSearchCV para Random Forest...\")\n",
        "grid_search_rf.fit(X_train_final, y_train_final)\n",
        "\n",
        "print(f\"\\nMelhores parâmetros encontrados para RF: {grid_search_rf.best_params_}\")\n",
        "best_rf_model = grid_search_rf.best_estimator_\n",
        "\n",
        "print(\"---------------------------------------------------\\n\")"
      ],
      "metadata": {
        "colab": {
          "base_uri": "https://localhost:8080/"
        },
        "id": "qCHWNpnptVcc",
        "outputId": "6d03e7f3-5e2d-407a-9f46-9bcc4cba79b1"
      },
      "execution_count": null,
      "outputs": [
        {
          "output_type": "stream",
          "name": "stdout",
          "text": [
            "--- Iniciando Passo 3: Tuning de Hiperparâmetros (Random Forest) ---\n",
            "Iniciando GridSearchCV para Random Forest...\n",
            "Fitting 5 folds for each of 8 candidates, totalling 40 fits\n",
            "\n",
            "Melhores parâmetros encontrados para RF: {'criterion': 'entropy', 'max_depth': 20, 'n_estimators': 200}\n",
            "---------------------------------------------------\n",
            "\n"
          ]
        }
      ]
    },
    {
      "cell_type": "code",
      "source": [
        "# --- Passo 4: Ensemble de Modelos (Voting Classifier) ---\n",
        "print(\"--- Iniciando Passo 4: Ensemble de Modelos (Voting Classifier) ---\")\n",
        "\n",
        "clf_dt = DecisionTreeClassifier(random_state=42)\n",
        "clf_svm = SVC(probability=True, random_state=42)\n",
        "clf_knn = KNeighborsClassifier(n_neighbors=5)\n",
        "\n",
        "voting_clf = VotingClassifier(\n",
        "    estimators=[\n",
        "        ('dt', clf_dt),\n",
        "        ('svm', clf_svm),\n",
        "        ('knn', clf_knn)\n",
        "    ],\n",
        "    voting='hard'\n",
        ")\n",
        "\n",
        "print(\"Treinando o Voting Classifier (DT, SVM, KNN)...\")\n",
        "voting_clf.fit(X_train_final, y_train_final)\n",
        "print(\"Voting Classifier treinado com sucesso.\")\n",
        "print(\"---------------------------------------------------\\n\")"
      ],
      "metadata": {
        "colab": {
          "base_uri": "https://localhost:8080/"
        },
        "id": "dp2hOtmQttOi",
        "outputId": "a4f0a70c-61a0-47fb-9bd1-36c7b28cee12"
      },
      "execution_count": null,
      "outputs": [
        {
          "output_type": "stream",
          "name": "stdout",
          "text": [
            "--- Iniciando Passo 4: Ensemble de Modelos (Voting Classifier) ---\n",
            "Treinando o Voting Classifier (DT, SVM, KNN)...\n",
            "Voting Classifier treinado com sucesso.\n",
            "---------------------------------------------------\n",
            "\n"
          ]
        }
      ]
    },
    {
      "cell_type": "code",
      "source": [
        "print(\"--- Iniciando Passo 5: Avaliação e Análise ---\")\n",
        "\n",
        "print(\"\\n--- Avaliação do Modelo 1: Random Forest (Otimizado) ---\")\n",
        "y_pred_rf = best_rf_model.predict(X_test_selected)\n",
        "\n",
        "print(f\"Accuracy: {accuracy_score(y_test, y_pred_rf):.4f}\")\n",
        "print(f\"Macro F1-Score: {f1_score(y_test, y_pred_rf, average='macro'):.4f}\")\n",
        "\n",
        "print(\"\\nMatriz de Confusão (Random Forest):\")\n",
        "print(confusion_matrix(y_test, y_pred_rf))\n",
        "\n",
        "print(\"\\nRelatório de Classificação (Random Forest):\")\n",
        "print(classification_report(y_test, y_pred_rf, target_names=['Classe 0 (Legítima)', 'Classe 1 (Fraude)']))\n",
        "\n",
        "\n",
        "print(\"\\n--- Avaliação do Modelo 2: Voting Classifier (DT, SVM, KNN) ---\")\n",
        "y_pred_voting = voting_clf.predict(X_test_selected)\n",
        "\n",
        "print(f\"Accuracy: {accuracy_score(y_test, y_pred_voting):.4f}\")\n",
        "print(f\"Macro F1-Score: {f1_score(y_test, y_pred_voting, average='macro'):.4f}\")\n",
        "\n",
        "print(\"\\nMatriz de Confusão (Voting Classifier):\")\n",
        "print(confusion_matrix(y_test, y_pred_voting))\n",
        "\n",
        "print(\"\\nRelatório de Classificação (Voting Classifier):\")\n",
        "print(classification_report(y_test, y_pred_voting, target_names=['Classe 0 (Legítima)', 'Classe 1 (Fraude)']))\n",
        "print(\"---------------------------------------------------\\n\")\n",
        "\n",
        "print(\"--- Análise Final ---\")\n",
        "print(\"Compare o 'Macro F1-Score', Precisão e Recall da 'Classe 1 (Fraude)' entre os dois modelos para concluir o seu trabalho.\")"
      ],
      "metadata": {
        "colab": {
          "base_uri": "https://localhost:8080/"
        },
        "id": "SpDp8vJutytT",
        "outputId": "99466c31-8f20-4103-c953-7311e785fb8d"
      },
      "execution_count": null,
      "outputs": [
        {
          "output_type": "stream",
          "name": "stdout",
          "text": [
            "--- Iniciando Passo 5: Avaliação e Análise ---\n",
            "\n",
            "--- Avaliação do Modelo 1: Random Forest (Otimizado) ---\n",
            "Accuracy: 0.9545\n",
            "Macro F1-Score: 0.9417\n",
            "\n",
            "Matriz de Confusão (Random Forest):\n",
            "[[376   4]\n",
            " [ 20 128]]\n",
            "\n",
            "Relatório de Classificação (Random Forest):\n",
            "                     precision    recall  f1-score   support\n",
            "\n",
            "Classe 0 (Legítima)       0.95      0.99      0.97       380\n",
            "  Classe 1 (Fraude)       0.97      0.86      0.91       148\n",
            "\n",
            "           accuracy                           0.95       528\n",
            "          macro avg       0.96      0.93      0.94       528\n",
            "       weighted avg       0.96      0.95      0.95       528\n",
            "\n",
            "\n",
            "--- Avaliação do Modelo 2: Voting Classifier (DT, SVM, KNN) ---\n",
            "Accuracy: 0.9508\n",
            "Macro F1-Score: 0.9377\n",
            "\n",
            "Matriz de Confusão (Voting Classifier):\n",
            "[[372   8]\n",
            " [ 18 130]]\n",
            "\n",
            "Relatório de Classificação (Voting Classifier):\n",
            "                     precision    recall  f1-score   support\n",
            "\n",
            "Classe 0 (Legítima)       0.95      0.98      0.97       380\n",
            "  Classe 1 (Fraude)       0.94      0.88      0.91       148\n",
            "\n",
            "           accuracy                           0.95       528\n",
            "          macro avg       0.95      0.93      0.94       528\n",
            "       weighted avg       0.95      0.95      0.95       528\n",
            "\n",
            "---------------------------------------------------\n",
            "\n",
            "--- Análise Final ---\n",
            "Compare o 'Macro F1-Score', Precisão e Recall da 'Classe 1 (Fraude)' entre os dois modelos para concluir o seu trabalho.\n"
          ]
        }
      ]
    },
    {
      "cell_type": "code",
      "source": [
        "# --- Bloco 8: Visualização das Matrizes de Confusão ---\n",
        "print(\"--- Iniciando Bloco 8: Visualização das Matrizes ---\")\n",
        "\n",
        "# Importar bibliotecas de visualização\n",
        "import matplotlib.pyplot as plt\n",
        "import seaborn as sns\n",
        "from sklearn.metrics import confusion_matrix\n",
        "\n",
        "# 1. Obter as matrizes de confusão (já calculadas no Bloco 7, mas recriando para garantir)\n",
        "# (Estas variáveis y_test, y_pred_rf, y_pred_voting vêm do Bloco 7)\n",
        "try:\n",
        "    cm_rf = confusion_matrix(y_test, y_pred_rf)\n",
        "    cm_voting = confusion_matrix(y_test, y_pred_voting)\n",
        "except NameError:\n",
        "    print(\"Erro: As variáveis 'y_test', 'y_pred_rf' ou 'y_pred_voting' não foram encontradas.\")\n",
        "    print(\"Certifique-se de que executou o Bloco 7 primeiro.\")\n",
        "\n",
        "target_names = ['Legítima (0)', 'Fraude (1)']\n",
        "\n",
        "# 2. Criar os plots (lado a lado)\n",
        "# Criamos uma figura com 1 linha e 2 colunas\n",
        "fig, axes = plt.subplots(1, 2, figsize=(16, 6))\n",
        "fig.suptitle('Comparação das Matrizes de Confusão', fontsize=16)\n",
        "\n",
        "# Plot 1: Random Forest\n",
        "sns.heatmap(cm_rf, annot=True, fmt='d', cmap='Blues', ax=axes[0],\n",
        "            xticklabels=target_names, yticklabels=target_names)\n",
        "axes[0].set_title('Random Forest (Otimizado)')\n",
        "axes[0].set_xlabel('Previsto')\n",
        "axes[0].set_ylabel('Verdadeiro')\n",
        "\n",
        "# Plot 2: Voting Classifier\n",
        "sns.heatmap(cm_voting, annot=True, fmt='d', cmap='Greens', ax=axes[1],\n",
        "            xticklabels=target_names, yticklabels=target_names)\n",
        "axes[1].set_title('Voting Classifier (DT, SVM, KNN)')\n",
        "axes[1].set_xlabel('Previsto')\n",
        "axes[1].set_ylabel('Verdadeiro')\n",
        "\n",
        "# 3. Exibir o plot no Colab\n",
        "plt.tight_layout(rect=[0, 0.03, 1, 0.95]) # Ajuste para evitar sobreposição com o título\n",
        "plt.show()\n",
        "\n",
        "print(\"Gráficos gerados com sucesso.\")\n",
        "print(\"---------------------------------------------------\\n\")"
      ],
      "metadata": {
        "id": "lIpNejhhuHZZ",
        "colab": {
          "base_uri": "https://localhost:8080/",
          "height": 400
        },
        "outputId": "9f2bfdac-6caa-45c8-b7c8-d30757f1c533"
      },
      "execution_count": null,
      "outputs": [
        {
          "output_type": "stream",
          "name": "stdout",
          "text": [
            "--- Iniciando Bloco 8: Visualização das Matrizes ---\n"
          ]
        },
        {
          "output_type": "display_data",
          "data": {
            "text/plain": [
              "<Figure size 1600x600 with 4 Axes>"
            ],
            "image/png": "[encoded data removed]"
          },
          "metadata": {}
        },
        {
          "output_type": "stream",
          "name": "stdout",
          "text": [
            "Gráficos gerados com sucesso.\n",
            "---------------------------------------------------\n",
            "\n"
          ]
        }
      ]
    }
  ]
}